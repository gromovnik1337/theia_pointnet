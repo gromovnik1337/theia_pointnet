{
 "cells": [
  {
   "cell_type": "code",
   "execution_count": null,
   "id": "2a03793a-600f-4794-b6b2-113acb28f223",
   "metadata": {},
   "outputs": [],
   "source": [
    "\"\"\"Notebok loads & explores the dataset.\n",
    "\"\"\""
   ]
  },
  {
   "cell_type": "code",
   "execution_count": null,
   "id": "c6f8daaf-7eba-4d84-8c04-f404cbd65930",
   "metadata": {},
   "outputs": [],
   "source": [
    "from config import config\n",
    "from data_processing.utils import viewer\n",
    "import pathlib\n",
    "import trimesh"
   ]
  },
  {
   "cell_type": "code",
   "execution_count": null,
   "id": "ff4f9ca2-df98-49f5-a0b6-cb9dd367ef4a",
   "metadata": {},
   "outputs": [],
   "source": [
    "# Load global config.\n",
    "config_file = config.Config()"
   ]
  },
  {
   "cell_type": "code",
   "execution_count": null,
   "id": "a30f9432-b4fa-4cbd-acbf-a1766bbca9a1",
   "metadata": {},
   "outputs": [],
   "source": [
    "dataset_path = pathlib.Path(config_file.config['dataset']['path'])"
   ]
  },
  {
   "cell_type": "code",
   "execution_count": null,
   "id": "d50e2dcd-3359-4383-9149-1245588a9e38",
   "metadata": {},
   "outputs": [],
   "source": [
    "test_path = dataset_path / 'train/bearing/00000019.obj'"
   ]
  },
  {
   "cell_type": "code",
   "execution_count": null,
   "id": "e1e3acd0-ece3-4d12-9879-f23c5bca6c11",
   "metadata": {},
   "outputs": [],
   "source": [
    "test_file = trimesh.load(test_path, force='mesh')"
   ]
  },
  {
   "cell_type": "code",
   "execution_count": null,
   "id": "5218c354-18b1-4183-b8ab-df590e66fc75",
   "metadata": {},
   "outputs": [],
   "source": [
    "test = viewer.Viewer()"
   ]
  },
  {
   "cell_type": "code",
   "execution_count": null,
   "id": "33bd01a3-9c3b-49d9-9b44-c1cea502b835",
   "metadata": {},
   "outputs": [],
   "source": [
    "test.add_mesh(test_file)"
   ]
  },
  {
   "cell_type": "code",
   "execution_count": null,
   "id": "d6517b90-3fc9-4000-b947-37faea7d2899",
   "metadata": {},
   "outputs": [],
   "source": [
    "test.add_pc(test_file.vertices)"
   ]
  },
  {
   "cell_type": "code",
   "execution_count": null,
   "id": "c2817aac-fb8e-470b-bbf6-53c7e35dd922",
   "metadata": {},
   "outputs": [],
   "source": [
    "test.show()"
   ]
  },
  {
   "cell_type": "code",
   "execution_count": null,
   "id": "84907db3-9a6e-464f-ac03-876c5e6f25f6",
   "metadata": {},
   "outputs": [],
   "source": []
  }
 ],
 "metadata": {
  "kernelspec": {
   "display_name": "theia_pointnet",
   "language": "python",
   "name": "theia_pointnet"
  },
  "language_info": {
   "codemirror_mode": {
    "name": "ipython",
    "version": 3
   },
   "file_extension": ".py",
   "mimetype": "text/x-python",
   "name": "python",
   "nbconvert_exporter": "python",
   "pygments_lexer": "ipython3",
   "version": "3.8.10"
  }
 },
 "nbformat": 4,
 "nbformat_minor": 5
}
